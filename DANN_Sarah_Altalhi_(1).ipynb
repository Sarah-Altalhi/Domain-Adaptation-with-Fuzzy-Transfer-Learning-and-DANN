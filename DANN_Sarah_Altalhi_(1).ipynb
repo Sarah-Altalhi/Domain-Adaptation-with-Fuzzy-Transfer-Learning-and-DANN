{
  "nbformat": 4,
  "nbformat_minor": 0,
  "metadata": {
    "colab": {
      "provenance": []
    },
    "kernelspec": {
      "name": "python3",
      "display_name": "Python 3"
    },
    "language_info": {
      "name": "python"
    }
  },
  "cells": [
    {
      "cell_type": "markdown",
      "source": [
        "## Realise DANN on transfer learning task on SVNH → MNIST\n",
        "\n"
      ],
      "metadata": {
        "id": "DPLgG0492WDl"
      }
    },
    {
      "cell_type": "code",
      "source": [
        "#Importing needed libraries\n",
        "import random\n",
        "import os\n",
        "import torch.backends.cudnn as cudnn\n",
        "import torch.optim as optim\n",
        "import torch.utils.data\n",
        "from torchvision import datasets\n",
        "from torchvision import transforms\n",
        "from torchvision import datasets, transforms\n",
        "import numpy as np"
      ],
      "metadata": {
        "id": "Iftb2xkcOcvZ"
      },
      "execution_count": 1,
      "outputs": []
    },
    {
      "cell_type": "markdown",
      "source": [
        "## Define Gradient Reversal Layer (GRL)\n",
        "\n"
      ],
      "metadata": {
        "id": "bioEyRSfPkd6"
      }
    },
    {
      "cell_type": "code",
      "source": [
        "from torch.autograd import Function\n",
        "\n",
        "class ReverseLayerF(Function):\n",
        "\n",
        "    @staticmethod\n",
        "    def forward(ctx, x, alpha):    #alpha controls the degree of reversal applied to the gradient\n",
        "        ctx.alpha = alpha\n",
        "\n",
        "        return x.view_as(x)\n",
        "\n",
        "    @staticmethod\n",
        "    def backward(ctx, grad_output):\n",
        "        output = grad_output.neg() * ctx.alpha\n",
        "\n",
        "        return output, None"
      ],
      "metadata": {
        "id": "0sBTXkEIQMmF"
      },
      "execution_count": 2,
      "outputs": []
    },
    {
      "cell_type": "code",
      "source": [
        "import copy\n",
        "import torch.nn as nn\n",
        "\n",
        "class GradientReverse(nn.Module):\n",
        "    # Initialize the class with an alpha value, used to scale the reversed gradient\n",
        "    def __init__(self, alpha, *args, **kwargs):\n",
        "        \"Reverse GR layer hook\"  # A simple docstring describing the purpose of the class\n",
        "        super().__init__(*args, **kwargs)  # Call the parent class initializer\n",
        "        # Alpha controls how strongly the gradient is reversed\n",
        "        self.alpha = torch.tensor(alpha, requires_grad=False)\n",
        "        # Ensure that alpha is positive, otherwise raise an assertion error\n",
        "        assert alpha > 0, 'alpha must be > 0'\n",
        "        # Print the negative alpha value, indicating the scale of the reversed gradient\n",
        "        print(f\"The gradient will be multiplied by: {-alpha}\")\n",
        "\n",
        "    # Forward pass for the layer; x is the input, and self.alpha is the scaling factor\n",
        "    def forward(self, x):\n",
        "        # Apply the reverse layer operation during the forward pass\n",
        "        return ReverseLayerF.apply(x, self.alpha)\n",
        "\n",
        "# Function to test the gradient reversal mechanism\n",
        "def test_grad_reverese(alpha):\n",
        "    # Define a simple Mean Squared Error (MSE) loss function for testing\n",
        "    criterion = torch.nn.MSELoss()\n",
        "    # Generate random input and output tensors for testing\n",
        "    input, output = torch.randn(8, 5), torch.randn(8, 1)\n",
        "\n",
        "    # Define a simple network with linear layers\n",
        "    network = nn.Sequential(nn.Linear(5, 1), torch.nn.Linear(1, 1))\n",
        "    # Create a reversed version of the network with the gradient reversal layer\n",
        "    revnetwork = nn.Sequential(\n",
        "        copy.deepcopy(network),  # Create a copy of the original network\n",
        "        GradientReverse(alpha),  # Insert the GradientReverse layer\n",
        "    )\n",
        "\n",
        "    # Compute the loss for the original network and perform backpropagation\n",
        "    criterion(network(input), output).backward()\n",
        "    # Compute the loss for the reversed network and perform backpropagation\n",
        "    criterion(revnetwork(input), output).backward()\n",
        "\n",
        "    # Compare the gradients of the original and reversed networks\n",
        "    for p1, p2 in zip(network.parameters(), revnetwork.parameters()):\n",
        "        print(\"-\" * 100)  # Print a separator line\n",
        "        # Print the gradient of the original network\n",
        "        print(f\"original: {p1.grad}\")\n",
        "        # Print the scaled gradient of the reversed network\n",
        "        print(f\"reversed: {p2.grad/alpha}\")\n",
        "        # Assert that the reversed gradient is approximately equal to the negative of the original gradient\n",
        "        assert torch.isclose(p1.grad, ((-p2.grad) / alpha)).all()\n",
        "    print(\"-\" * 100)  # Print another separator line\n",
        "\n",
        "# Run the test function with alpha set to 1\n",
        "test_grad_reverese(1)"
      ],
      "metadata": {
        "colab": {
          "base_uri": "https://localhost:8080/"
        },
        "id": "MnyUTa0VTvRr",
        "outputId": "7a54cd76-88bf-448e-9308-0acd7dd662a2"
      },
      "execution_count": 3,
      "outputs": [
        {
          "output_type": "stream",
          "name": "stdout",
          "text": [
            "The gradient will be multiplied by: -1\n",
            "----------------------------------------------------------------------------------------------------\n",
            "original: tensor([[ 0.0830, -0.0223,  0.0050,  0.2087,  0.0664]])\n",
            "reversed: tensor([[-0.0830,  0.0223, -0.0050, -0.2087, -0.0664]])\n",
            "----------------------------------------------------------------------------------------------------\n",
            "original: tensor([-0.3502])\n",
            "reversed: tensor([0.3502])\n",
            "----------------------------------------------------------------------------------------------------\n",
            "original: tensor([[-0.0297]])\n",
            "reversed: tensor([[0.0297]])\n",
            "----------------------------------------------------------------------------------------------------\n",
            "original: tensor([2.1405])\n",
            "reversed: tensor([-2.1405])\n",
            "----------------------------------------------------------------------------------------------------\n"
          ]
        }
      ]
    },
    {
      "cell_type": "markdown",
      "source": [
        "## Deifne the main model architectures\n",
        "\n",
        "we define the feature extractor, the label predictor and the domain classifier."
      ],
      "metadata": {
        "id": "u0Z8b-PPVDqu"
      }
    },
    {
      "cell_type": "code",
      "source": [
        "class CNNModel(nn.Module):   # The CNNModel class defines a neural network with both a feature extraction\n",
        "                             # module and two classifiers: one for classifying image classes and one for domain classification.\n",
        "    def __init__(self):\n",
        "        super(CNNModel, self).__init__()\n",
        "        self.feature = nn.Sequential()     # Feature extraction layers\n",
        "        self.feature.add_module('f_conv1', nn.Conv2d(3, 64, kernel_size=5))\n",
        "        self.feature.add_module('f_bn1', nn.BatchNorm2d(64))\n",
        "        self.feature.add_module('f_pool1', nn.MaxPool2d(2))\n",
        "        self.feature.add_module('f_relu1', nn.ReLU(True))\n",
        "        self.feature.add_module('f_conv2', nn.Conv2d(64, 50, kernel_size=5))\n",
        "        self.feature.add_module('f_bn2', nn.BatchNorm2d(50))\n",
        "        self.feature.add_module('f_drop1', nn.Dropout2d())\n",
        "        self.feature.add_module('f_pool2', nn.MaxPool2d(2))\n",
        "        self.feature.add_module('f_relu2', nn.ReLU(True))\n",
        "\n",
        "        self.class_classifier = nn.Sequential()  # Class classification branch\n",
        "        self.class_classifier.add_module('c_fc1', nn.Linear(50 * 4 * 4, 100))\n",
        "        self.class_classifier.add_module('c_bn1', nn.BatchNorm1d(100))\n",
        "        self.class_classifier.add_module('c_relu1', nn.ReLU(True))\n",
        "        self.class_classifier.add_module('c_drop1', nn.Dropout2d())\n",
        "        self.class_classifier.add_module('c_fc2', nn.Linear(100, 100))\n",
        "        self.class_classifier.add_module('c_bn2', nn.BatchNorm1d(100))\n",
        "        self.class_classifier.add_module('c_relu2', nn.ReLU(True))\n",
        "        self.class_classifier.add_module('c_fc3', nn.Linear(100, 10))\n",
        "        self.class_classifier.add_module('c_softmax', nn.LogSoftmax())\n",
        "\n",
        "        self.domain_classifier = nn.Sequential()   # Domain classification branch\n",
        "        self.domain_classifier.add_module('d_fc1', nn.Linear(50 * 4 * 4, 100))\n",
        "        self.domain_classifier.add_module('d_bn1', nn.BatchNorm1d(100))\n",
        "        self.domain_classifier.add_module('d_relu1', nn.ReLU(True))\n",
        "        self.domain_classifier.add_module('d_fc2', nn.Linear(100, 2))\n",
        "        self.domain_classifier.add_module('d_softmax', nn.LogSoftmax(dim=1))\n",
        "\n",
        "    def forward(self, input_data, alpha):\n",
        "        # Expand the input data to 3 channels (RGB) and resize to 32x32 if necessary\n",
        "        input_data = input_data.expand(input_data.data.shape[0], 3, 32, 32)\n",
        "        # Pass the input through the feature extraction layers\n",
        "        feature = self.feature(input_data)\n",
        "        # Flatten the extracted features\n",
        "        feature = feature.view(-1, 50 * 4 * 4)\n",
        "        # Reverse the gradient flow with the alpha scaling factor for the domain classifier\n",
        "        reverse_feature = ReverseLayerF.apply(feature, alpha)\n",
        "        class_output = self.class_classifier(feature)\n",
        "        domain_output = self.domain_classifier(reverse_feature)\n",
        "\n",
        "        return class_output, domain_output"
      ],
      "metadata": {
        "id": "xx3VMqYuZFl5"
      },
      "execution_count": 4,
      "outputs": []
    },
    {
      "cell_type": "markdown",
      "source": [
        "## Prepare dataloader\n"
      ],
      "metadata": {
        "id": "b8sNucgLZpVW"
      }
    },
    {
      "cell_type": "code",
      "source": [
        "# Import necessary libraries\n",
        "from PIL import Image\n",
        "import os\n",
        "import tarfile\n",
        "import torch\n",
        "from torchvision import datasets, transforms\n",
        "\n",
        "# Dataset class to handle loading custom images (e.g., MNIST-M)\n",
        "class GetLoader(torch.utils.data.Dataset):\n",
        "    def __init__(self, data_root, data_list, transform=None):\n",
        "        self.root = data_root  # Root directory of the dataset\n",
        "        self.transform = transform  # Transformations to apply on images\n",
        "\n",
        "        # Read the file containing the list of image paths and labels\n",
        "        f = open(data_list, 'r')\n",
        "        data_list = f.readlines()\n",
        "        f.close()\n",
        "\n",
        "        self.n_data = len(data_list)  # Number of samples\n",
        "\n",
        "        # Initialize lists to store image paths and labels\n",
        "        self.img_paths = []\n",
        "        self.img_labels = []\n",
        "\n",
        "        # Parse the data list and split image paths and labels\n",
        "        for data in data_list:\n",
        "            self.img_paths.append(data[:-3].strip())  # Image path\n",
        "            self.img_labels.append(int(data[-2]))  # Label\n",
        "\n",
        "    # Function to get one sample from the dataset\n",
        "    def __getitem__(self, item):\n",
        "        img_path, label = self.img_paths[item], self.img_labels[item]\n",
        "        img = Image.open(os.path.join(self.root, img_path)).convert('RGB')  # Load image and convert to RGB\n",
        "\n",
        "        if self.transform is not None:\n",
        "            img = self.transform(img)  # Apply transformations\n",
        "            label = int(label)  # Convert label to integer\n",
        "\n",
        "        return img, label  # Return image and its label\n",
        "\n",
        "    # Function to get the number of samples in the dataset\n",
        "    def __len__(self):\n",
        "        return self.n_data\n",
        "\n",
        "# Transforms for both SVHN and MNIST (resizing, normalization)\n",
        "transform_svhn = transforms.Compose([\n",
        "    transforms.Resize((32, 32)),  # Resize SVHN images to 32x32\n",
        "    transforms.ToTensor(),  # Convert to tensor\n",
        "    transforms.Normalize((0.5, 0.5, 0.5), (0.5, 0.5, 0.5))  # Normalize RGB channels\n",
        "])\n",
        "\n",
        "transform_mnist = transforms.Compose([\n",
        "    transforms.Resize((32, 32)),  # Resize MNIST images to 32x32\n",
        "    transforms.ToTensor(),  # Convert to tensor\n",
        "    transforms.Normalize((0.5,), (0.5,))  # Normalize grayscale channel\n",
        "])\n",
        "\n",
        "# Loading the SVHN and MNIST datasets\n",
        "source_dataset = datasets.SVHN(root='data', split='train', download=True, transform=transform_svhn)  # SVHN (source domain)\n",
        "target_dataset = datasets.MNIST(root='data', train=True, download=True, transform=transform_mnist)  # MNIST (target domain)\n",
        "\n",
        "# Define paths for datasets\n",
        "source_image_root = os.path.join('..', 'dataset', 'SVHN')\n",
        "target_image_root = os.path.join('..', 'dataset', 'MNIST')\n",
        "\n",
        "# Set consistent batch size for both source and target\n",
        "batch_size = 128\n",
        "\n",
        "# Dataloaders for SVHN (source) and MNIST (target) datasets\n",
        "dataloader_source = torch.utils.data.DataLoader(\n",
        "    dataset=source_dataset, batch_size=batch_size, shuffle=True, num_workers=4)\n",
        "\n",
        "dataloader_target = torch.utils.data.DataLoader(\n",
        "    dataset=target_dataset, batch_size=batch_size, shuffle=True, num_workers=4)\n"
      ],
      "metadata": {
        "colab": {
          "base_uri": "https://localhost:8080/"
        },
        "id": "s0ppca6gZ1-T",
        "outputId": "399195f9-d532-4d3c-fee4-bb21b390318a"
      },
      "execution_count": 34,
      "outputs": [
        {
          "output_type": "stream",
          "name": "stdout",
          "text": [
            "Using downloaded and verified file: data/train_32x32.mat\n"
          ]
        }
      ]
    },
    {
      "cell_type": "markdown",
      "source": [
        "Next, we show some data in SVHN dataset and MNIST dataset."
      ],
      "metadata": {
        "id": "9x2i8sb3beak"
      }
    },
    {
      "cell_type": "code",
      "source": [
        "import matplotlib.pyplot as plt\n",
        "\n",
        "# Function to show a batch of images (handles both RGB and grayscale)\n",
        "def show_images(images, labels, n=6, dataset_type='MNIST'):\n",
        "    plt.figure(figsize=(10, 5))\n",
        "\n",
        "    for i in range(n):\n",
        "        # Select the image and label\n",
        "        image = images[i].numpy().transpose((1, 2, 0))  # Transpose to (H, W, C) for displaying\n",
        "\n",
        "        # Plot the image\n",
        "        plt.subplot(1, n, i + 1)\n",
        "\n",
        "        # Check if dataset is RGB (SVHN) or grayscale (MNIST)\n",
        "        if dataset_type == 'SVHN':\n",
        "            plt.imshow(image)  # No colormap needed for RGB images\n",
        "        else:\n",
        "            plt.imshow(image.squeeze(), cmap='gray')  # Squeeze and use 'gray' colormap for MNIST\n",
        "\n",
        "        label = labels[i].item()  # Extract label\n",
        "        plt.title(f'Label: {label}')\n",
        "        plt.axis('off')  # Hide axis for better visual effect\n",
        "\n",
        "    plt.show()\n",
        "\n",
        "# Function to load a sample of images from a dataset\n",
        "def load_sample_data(dataset, n=6):\n",
        "    # Choose n random images and labels from the dataset\n",
        "    indices = torch.randint(0, len(dataset), (n,))\n",
        "    images = torch.stack([dataset[i][0] for i in indices])\n",
        "    labels = torch.tensor([dataset[i][1] for i in indices])\n",
        "\n",
        "    return images, labels\n",
        "\n",
        "# Load and display a batch of SVHN images\n",
        "svhn_images, svhn_labels = load_sample_data(source_dataset, n=6)\n",
        "show_images(svhn_images, svhn_labels, n=6, dataset_type='SVHN')\n",
        "\n",
        "# Load and display a batch of MNIST images\n",
        "mnist_images, mnist_labels = load_sample_data(target_dataset, n=6)\n",
        "show_images(mnist_images, mnist_labels, n=6, dataset_type='MNIST')\n"
      ],
      "metadata": {
        "id": "XrmLtaXBbxP_",
        "colab": {
          "base_uri": "https://localhost:8080/",
          "height": 427
        },
        "outputId": "4e1ef398-2760-4ea2-f424-2bba7a89a885"
      },
      "execution_count": 36,
      "outputs": [
        {
          "output_type": "stream",
          "name": "stderr",
          "text": [
            "WARNING:matplotlib.image:Clipping input data to the valid range for imshow with RGB data ([0..1] for floats or [0..255] for integers).\n",
            "WARNING:matplotlib.image:Clipping input data to the valid range for imshow with RGB data ([0..1] for floats or [0..255] for integers).\n",
            "WARNING:matplotlib.image:Clipping input data to the valid range for imshow with RGB data ([0..1] for floats or [0..255] for integers).\n",
            "WARNING:matplotlib.image:Clipping input data to the valid range for imshow with RGB data ([0..1] for floats or [0..255] for integers).\n",
            "WARNING:matplotlib.image:Clipping input data to the valid range for imshow with RGB data ([0..1] for floats or [0..255] for integers).\n",
            "WARNING:matplotlib.image:Clipping input data to the valid range for imshow with RGB data ([0..1] for floats or [0..255] for integers).\n"
          ]
        },
        {
          "output_type": "display_data",
          "data": {
            "text/plain": [
              "<Figure size 1000x500 with 6 Axes>"
            ],
            "image/png": "[encoded data removed]"
          },
          "metadata": {}
        },
        {
          "output_type": "display_data",
          "data": {
            "text/plain": [
              "<Figure size 1000x500 with 6 Axes>"
            ],
            "image/png": "[encoded data removed]"
          },
          "metadata": {}
        }
      ]
    },
    {
      "cell_type": "markdown",
      "source": [
        "## Traning process"
      ],
      "metadata": {
        "id": "8BXcQFvuuWAE"
      }
    },
    {
      "cell_type": "code",
      "source": [
        "# Dataloaders for SVHN and MNIST datasets\n",
        "dataloader_source = torch.utils.data.DataLoader(dataset=source_dataset, batch_size=batch_size, shuffle=True, num_workers=4)\n",
        "dataloader_target = torch.utils.data.DataLoader(dataset=target_dataset, batch_size=batch_size, shuffle=True, num_workers=4)\n",
        "\n",
        "# Training loop optimization   ##Transfer learning here presents the model is trained on the source domain(SVHN) and adapted to the target domain (MNIST).##\n",
        "for epoch in range(num_epochs):\n",
        "    model.train()\n",
        "    total_loss = 0\n",
        "    total_class_loss = 0\n",
        "    total_domain_loss = 0\n",
        "    correct_class = 0\n",
        "    total_samples = 0\n",
        "\n",
        "    # Iterate over a limited number of batches\n",
        "    for (source_data, target_data) in limited_batches:  # Use the limited batches\n",
        "        source_imgs, source_labels = source_data\n",
        "        target_imgs, target_labels = target_data\n",
        "        source_imgs, source_labels = source_imgs.to(device), source_labels.to(device)\n",
        "        target_imgs, target_labels = target_imgs.to(device), target_labels.to(device)\n",
        "\n",
        "        # Convert MNIST images to have 3 channels\n",
        "        target_imgs = target_imgs.repeat(1, 3, 1, 1)\n",
        "\n",
        "        # Combine datasets for domain classification (SVHN: source, MNIST: target)\n",
        "        combined_imgs = torch.cat((source_imgs, target_imgs), 0)\n",
        "        domain_labels = torch.cat((\n",
        "            torch.zeros(source_imgs.size(0)).long(),  # SVHN as source (label 0)\n",
        "            torch.ones(target_imgs.size(0)).long()    # MNIST as target (label 1)\n",
        "        ), 0).to(device)\n",
        "\n",
        "        optimizer.zero_grad()\n",
        "\n",
        "        # Forward pass\n",
        "        class_outputs, domain_outputs = model(combined_imgs, alpha)\n",
        "\n",
        "        # Compute class loss only for the source domain (first part of class_outputs)\n",
        "        class_loss = criterion_class(class_outputs[:source_imgs.size(0)], source_labels)\n",
        "\n",
        "        # Compute domain loss for both source and target domains (entire domain_outputs)\n",
        "        domain_loss = criterion_domain(domain_outputs, domain_labels)\n",
        "\n",
        "        # Combine both losses\n",
        "        loss = class_loss + domain_loss\n",
        "\n",
        "\n",
        "        # Backward pass and optimization\n",
        "        loss.backward()\n",
        "        optimizer.step()\n",
        "\n",
        "        # Track losses and accuracy\n",
        "        total_loss += loss.item()\n",
        "        total_class_loss += class_loss.item()\n",
        "        total_domain_loss += domain_loss.item()\n",
        "\n",
        "        # Track accuracy for source domain classification\n",
        "        _, predicted_class = torch.max(class_outputs[:source_imgs.size(0)], 1)\n",
        "        correct_class += (predicted_class == source_labels).sum().item()\n",
        "        total_samples += source_labels.size(0)\n",
        "\n",
        "    # Epoch results\n",
        "    print(f\"Epoch {epoch + 1}/{num_epochs}, Total Loss: {total_loss:.4f}, \"\n",
        "          f\"Class Accuracy: {100 * correct_class / total_samples:.2f}%\")\n",
        "\n",
        "print('Training completed')"
      ],
      "metadata": {
        "colab": {
          "base_uri": "https://localhost:8080/",
          "height": 356
        },
        "id": "sIQmZr4Vu7bE",
        "outputId": "36ed4094-e515-4fb7-9ce0-cd2d40b88dfa"
      },
      "execution_count": 40,
      "outputs": [
        {
          "output_type": "error",
          "ename": "ValueError",
          "evalue": "Expected input batch_size (200) to match target batch_size (128).",
          "traceback": [
            "\u001b[0;31m---------------------------------------------------------------------------\u001b[0m",
            "\u001b[0;31mValueError\u001b[0m                                Traceback (most recent call last)",
            "\u001b[0;32m<ipython-input-40-400ca22776fd>\u001b[0m in \u001b[0;36m<cell line: 6>\u001b[0;34m()\u001b[0m\n\u001b[1;32m     38\u001b[0m \u001b[0;34m\u001b[0m\u001b[0m\n\u001b[1;32m     39\u001b[0m         \u001b[0;31m# Compute domain loss for both source and target domains (entire domain_outputs)\u001b[0m\u001b[0;34m\u001b[0m\u001b[0;34m\u001b[0m\u001b[0m\n\u001b[0;32m---> 40\u001b[0;31m         \u001b[0mdomain_loss\u001b[0m \u001b[0;34m=\u001b[0m \u001b[0mcriterion_domain\u001b[0m\u001b[0;34m(\u001b[0m\u001b[0mdomain_outputs\u001b[0m\u001b[0;34m,\u001b[0m \u001b[0mdomain_labels\u001b[0m\u001b[0;34m)\u001b[0m\u001b[0;34m\u001b[0m\u001b[0;34m\u001b[0m\u001b[0m\n\u001b[0m\u001b[1;32m     41\u001b[0m \u001b[0;34m\u001b[0m\u001b[0m\n\u001b[1;32m     42\u001b[0m         \u001b[0;31m# Combine both losses\u001b[0m\u001b[0;34m\u001b[0m\u001b[0;34m\u001b[0m\u001b[0m\n",
            "\u001b[0;32m/usr/local/lib/python3.10/dist-packages/torch/nn/modules/module.py\u001b[0m in \u001b[0;36m_wrapped_call_impl\u001b[0;34m(self, *args, **kwargs)\u001b[0m\n\u001b[1;32m   1551\u001b[0m             \u001b[0;32mreturn\u001b[0m \u001b[0mself\u001b[0m\u001b[0;34m.\u001b[0m\u001b[0m_compiled_call_impl\u001b[0m\u001b[0;34m(\u001b[0m\u001b[0;34m*\u001b[0m\u001b[0margs\u001b[0m\u001b[0;34m,\u001b[0m \u001b[0;34m**\u001b[0m\u001b[0mkwargs\u001b[0m\u001b[0;34m)\u001b[0m  \u001b[0;31m# type: ignore[misc]\u001b[0m\u001b[0;34m\u001b[0m\u001b[0;34m\u001b[0m\u001b[0m\n\u001b[1;32m   1552\u001b[0m         \u001b[0;32melse\u001b[0m\u001b[0;34m:\u001b[0m\u001b[0;34m\u001b[0m\u001b[0;34m\u001b[0m\u001b[0m\n\u001b[0;32m-> 1553\u001b[0;31m             \u001b[0;32mreturn\u001b[0m \u001b[0mself\u001b[0m\u001b[0;34m.\u001b[0m\u001b[0m_call_impl\u001b[0m\u001b[0;34m(\u001b[0m\u001b[0;34m*\u001b[0m\u001b[0margs\u001b[0m\u001b[0;34m,\u001b[0m \u001b[0;34m**\u001b[0m\u001b[0mkwargs\u001b[0m\u001b[0;34m)\u001b[0m\u001b[0;34m\u001b[0m\u001b[0;34m\u001b[0m\u001b[0m\n\u001b[0m\u001b[1;32m   1554\u001b[0m \u001b[0;34m\u001b[0m\u001b[0m\n\u001b[1;32m   1555\u001b[0m     \u001b[0;32mdef\u001b[0m \u001b[0m_call_impl\u001b[0m\u001b[0;34m(\u001b[0m\u001b[0mself\u001b[0m\u001b[0;34m,\u001b[0m \u001b[0;34m*\u001b[0m\u001b[0margs\u001b[0m\u001b[0;34m,\u001b[0m \u001b[0;34m**\u001b[0m\u001b[0mkwargs\u001b[0m\u001b[0;34m)\u001b[0m\u001b[0;34m:\u001b[0m\u001b[0;34m\u001b[0m\u001b[0;34m\u001b[0m\u001b[0m\n",
            "\u001b[0;32m/usr/local/lib/python3.10/dist-packages/torch/nn/modules/module.py\u001b[0m in \u001b[0;36m_call_impl\u001b[0;34m(self, *args, **kwargs)\u001b[0m\n\u001b[1;32m   1560\u001b[0m                 \u001b[0;32mor\u001b[0m \u001b[0m_global_backward_pre_hooks\u001b[0m \u001b[0;32mor\u001b[0m \u001b[0m_global_backward_hooks\u001b[0m\u001b[0;34m\u001b[0m\u001b[0;34m\u001b[0m\u001b[0m\n\u001b[1;32m   1561\u001b[0m                 or _global_forward_hooks or _global_forward_pre_hooks):\n\u001b[0;32m-> 1562\u001b[0;31m             \u001b[0;32mreturn\u001b[0m \u001b[0mforward_call\u001b[0m\u001b[0;34m(\u001b[0m\u001b[0;34m*\u001b[0m\u001b[0margs\u001b[0m\u001b[0;34m,\u001b[0m \u001b[0;34m**\u001b[0m\u001b[0mkwargs\u001b[0m\u001b[0;34m)\u001b[0m\u001b[0;34m\u001b[0m\u001b[0;34m\u001b[0m\u001b[0m\n\u001b[0m\u001b[1;32m   1563\u001b[0m \u001b[0;34m\u001b[0m\u001b[0m\n\u001b[1;32m   1564\u001b[0m         \u001b[0;32mtry\u001b[0m\u001b[0;34m:\u001b[0m\u001b[0;34m\u001b[0m\u001b[0;34m\u001b[0m\u001b[0m\n",
            "\u001b[0;32m/usr/local/lib/python3.10/dist-packages/torch/nn/modules/loss.py\u001b[0m in \u001b[0;36mforward\u001b[0;34m(self, input, target)\u001b[0m\n\u001b[1;32m   1186\u001b[0m \u001b[0;34m\u001b[0m\u001b[0m\n\u001b[1;32m   1187\u001b[0m     \u001b[0;32mdef\u001b[0m \u001b[0mforward\u001b[0m\u001b[0;34m(\u001b[0m\u001b[0mself\u001b[0m\u001b[0;34m,\u001b[0m \u001b[0minput\u001b[0m\u001b[0;34m:\u001b[0m \u001b[0mTensor\u001b[0m\u001b[0;34m,\u001b[0m \u001b[0mtarget\u001b[0m\u001b[0;34m:\u001b[0m \u001b[0mTensor\u001b[0m\u001b[0;34m)\u001b[0m \u001b[0;34m->\u001b[0m \u001b[0mTensor\u001b[0m\u001b[0;34m:\u001b[0m\u001b[0;34m\u001b[0m\u001b[0;34m\u001b[0m\u001b[0m\n\u001b[0;32m-> 1188\u001b[0;31m         return F.cross_entropy(input, target, weight=self.weight,\n\u001b[0m\u001b[1;32m   1189\u001b[0m                                \u001b[0mignore_index\u001b[0m\u001b[0;34m=\u001b[0m\u001b[0mself\u001b[0m\u001b[0;34m.\u001b[0m\u001b[0mignore_index\u001b[0m\u001b[0;34m,\u001b[0m \u001b[0mreduction\u001b[0m\u001b[0;34m=\u001b[0m\u001b[0mself\u001b[0m\u001b[0;34m.\u001b[0m\u001b[0mreduction\u001b[0m\u001b[0;34m,\u001b[0m\u001b[0;34m\u001b[0m\u001b[0;34m\u001b[0m\u001b[0m\n\u001b[1;32m   1190\u001b[0m                                label_smoothing=self.label_smoothing)\n",
            "\u001b[0;32m/usr/local/lib/python3.10/dist-packages/torch/nn/functional.py\u001b[0m in \u001b[0;36mcross_entropy\u001b[0;34m(input, target, weight, size_average, ignore_index, reduce, reduction, label_smoothing)\u001b[0m\n\u001b[1;32m   3102\u001b[0m     \u001b[0;32mif\u001b[0m \u001b[0msize_average\u001b[0m \u001b[0;32mis\u001b[0m \u001b[0;32mnot\u001b[0m \u001b[0;32mNone\u001b[0m \u001b[0;32mor\u001b[0m \u001b[0mreduce\u001b[0m \u001b[0;32mis\u001b[0m \u001b[0;32mnot\u001b[0m \u001b[0;32mNone\u001b[0m\u001b[0;34m:\u001b[0m\u001b[0;34m\u001b[0m\u001b[0;34m\u001b[0m\u001b[0m\n\u001b[1;32m   3103\u001b[0m         \u001b[0mreduction\u001b[0m \u001b[0;34m=\u001b[0m \u001b[0m_Reduction\u001b[0m\u001b[0;34m.\u001b[0m\u001b[0mlegacy_get_string\u001b[0m\u001b[0;34m(\u001b[0m\u001b[0msize_average\u001b[0m\u001b[0;34m,\u001b[0m \u001b[0mreduce\u001b[0m\u001b[0;34m)\u001b[0m\u001b[0;34m\u001b[0m\u001b[0;34m\u001b[0m\u001b[0m\n\u001b[0;32m-> 3104\u001b[0;31m     \u001b[0;32mreturn\u001b[0m \u001b[0mtorch\u001b[0m\u001b[0;34m.\u001b[0m\u001b[0m_C\u001b[0m\u001b[0;34m.\u001b[0m\u001b[0m_nn\u001b[0m\u001b[0;34m.\u001b[0m\u001b[0mcross_entropy_loss\u001b[0m\u001b[0;34m(\u001b[0m\u001b[0minput\u001b[0m\u001b[0;34m,\u001b[0m \u001b[0mtarget\u001b[0m\u001b[0;34m,\u001b[0m \u001b[0mweight\u001b[0m\u001b[0;34m,\u001b[0m \u001b[0m_Reduction\u001b[0m\u001b[0;34m.\u001b[0m\u001b[0mget_enum\u001b[0m\u001b[0;34m(\u001b[0m\u001b[0mreduction\u001b[0m\u001b[0;34m)\u001b[0m\u001b[0;34m,\u001b[0m \u001b[0mignore_index\u001b[0m\u001b[0;34m,\u001b[0m \u001b[0mlabel_smoothing\u001b[0m\u001b[0;34m)\u001b[0m\u001b[0;34m\u001b[0m\u001b[0;34m\u001b[0m\u001b[0m\n\u001b[0m\u001b[1;32m   3105\u001b[0m \u001b[0;34m\u001b[0m\u001b[0m\n\u001b[1;32m   3106\u001b[0m \u001b[0;34m\u001b[0m\u001b[0m\n",
            "\u001b[0;31mValueError\u001b[0m: Expected input batch_size (200) to match target batch_size (128)."
          ]
        }
      ]
    }
  ]
}